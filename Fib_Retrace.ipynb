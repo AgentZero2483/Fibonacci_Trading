{
  "nbformat": 4,
  "nbformat_minor": 0,
  "metadata": {
    "colab": {
      "name": "Fib_Retrace.ipynb",
      "provenance": [],
      "collapsed_sections": [],
      "authorship_tag": "ABX9TyP4EoGjj/FblSrq7+vV3sHS",
      "include_colab_link": true
    },
    "kernelspec": {
      "name": "python3",
      "display_name": "Python 3"
    },
    "language_info": {
      "name": "python"
    }
  },
  "cells": [
    {
      "cell_type": "markdown",
      "metadata": {
        "id": "view-in-github",
        "colab_type": "text"
      },
      "source": [
        "<a href=\"https://colab.research.google.com/github/AgentZero2483/Fibonacci_Trading/blob/main/Fib_Retrace.ipynb\" target=\"_parent\"><img src=\"https://colab.research.google.com/assets/colab-badge.svg\" alt=\"Open In Colab\"/></a>"
      ]
    },
    {
      "cell_type": "markdown",
      "metadata": {
        "id": "oe18DItqfZeJ"
      },
      "source": [
        "# **This Program Calculates and plots the fibonacci Retracement Levels**"
      ]
    },
    {
      "cell_type": "code",
      "metadata": {
        "id": "epX-XbtwfSqT"
      },
      "source": [
        "!pip install plotly==5.4.0\n",
        "#import dependencies\n",
        "import numpy as np\n",
        "import pandas as pd\n",
        "import matplotlib.pyplot as plt\n",
        "plt.style.use('fivethirtyeight')\n",
        "import math\n",
        "import time\n",
        "import datetime\n",
        "import plotly.graph_objects as go\n",
        "import plotly.express as px\n",
        "from plotly.subplots import make_subplots\n",
        "import plotly.express as px"
      ],
      "execution_count": null,
      "outputs": []
    },
    {
      "cell_type": "code",
      "metadata": {
        "id": "sk-uWwZ4fjiK"
      },
      "source": [
        "#load data from y finance\n",
        "ticker = input(\"Enter your Ticker: \") #'TSLA'\n",
        "print(ticker)\n",
        "\n",
        "current_time = datetime.datetime.now() \n",
        "year = current_time.year\n",
        "month = current_time.month\n",
        "\n",
        "day = current_time.day\n",
        "hour = current_time.hour\n",
        "minute = current_time.minute\n",
        "\n",
        "\n",
        "start_year = int(input(\"Enter your Start Year: \"))\n",
        "start_month = int(input(\"Enter your Start month: \"))\n",
        "start_day = int(input(\"Enter your Start day: \"))\n",
        "\n",
        "#datetime(year, month, day[, hour[, minute[, second[, microsecond[,tzinfo]]]]])\n",
        "#period1 = int(time.mktime(datetime.datetime(2020, 6, 22, 23, 59).timetuple())) #'1516406400'\n",
        "period1 = int(time.mktime(datetime.datetime(start_year, start_month, start_day, hour, minute).timetuple())) #'1516406400'\n",
        "#time.mktime converts our ouptput into second values\n",
        "period2 = int(time.mktime(datetime.datetime(year, month, day, hour, minute).timetuple())) #'1624147200'\n",
        "interval = '1d' #'1wk' '1m'\n",
        "\n",
        "#date ranges are provided in seconds, so when we provide date ranges we must convert them to seconds\n",
        "query_string = f'https://query1.finance.yahoo.com/v7/finance/download/{ticker}?period1={period1}&period2={period2}&interval={interval}&events=history&includeAdjustedClose=true'\n",
        "#https://query1.finance.yahoo.com/v7/finance/download/TSLA?period1=1516406400&period2=1624147200&interval=1d&events=history&includeAdjustedClose=true"
      ],
      "execution_count": null,
      "outputs": []
    },
    {
      "cell_type": "code",
      "metadata": {
        "id": "M2HfvXPif2iQ"
      },
      "source": [
        "#Show data\n",
        "df = pd.read_csv(query_string)\n",
        "df\n",
        "\n",
        "df = df.set_index(pd.DatetimeIndex(df['Date'].values))\n",
        "df"
      ],
      "execution_count": null,
      "outputs": []
    },
    {
      "cell_type": "code",
      "metadata": {
        "id": "1qfeYH0MgcIm"
      },
      "source": [
        "#plot close price on chart\n",
        "plt.figure(figsize=(12.2, 4.5))\n",
        "plt.plot(df.Close, color='blue')\n",
        "plt.title(f'{ticker} Close Price')\n",
        "plt.xlabel('Date')\n",
        "plt.ylabel('Price (USD)')\n",
        "plt.show()"
      ],
      "execution_count": null,
      "outputs": []
    },
    {
      "cell_type": "code",
      "metadata": {
        "id": "4jUMTarfhONH"
      },
      "source": [
        "#Calculate Fib Retracement Level prices with a non-fib level/ratio of .5 or 50%\n",
        "#Fib Ratios:\n",
        "  #0.236, 0.382, 0.618\n",
        "#.618 = Ni/Ni+1\n",
        "#.382 = Ni/Ni+2\n",
        "#.236 = Ni/Ni+3\n",
        "\n",
        "#Get max and min for close price of time period\n",
        "max_price = df['Close'].max()\n",
        "min_price = df['Close'].min()\n",
        "\n",
        "#Calc diff between min and max\n",
        "difference = max_price - min_price\n",
        "first_level = max_price - difference * .236\n",
        "second_level = max_price - difference * .382\n",
        "third_level = max_price - difference * .5\n",
        "fourth_level = max_price - difference * .618"
      ],
      "execution_count": null,
      "outputs": []
    },
    {
      "cell_type": "code",
      "metadata": {
        "id": "8vRamWdVhP1y"
      },
      "source": [
        "#Print the price at each level\n",
        "print ('Level Percentage Price($)' )\n",
        "print('00.0%\\t\\t', max_price)\n",
        "print('23.6%\\t\\t', first_level)\n",
        "print('38.2%\\t\\t', second_level)\n",
        "print('50%\\t\\t', third_level)\n",
        "print('61.8%\\t\\t', fourth_level)\n",
        "print('100%\\t\\t', min_price)\n"
      ],
      "execution_count": null,
      "outputs": []
    },
    {
      "cell_type": "code",
      "source": [
        ""
      ],
      "metadata": {
        "id": "cSWwa-l4sN59"
      },
      "execution_count": null,
      "outputs": []
    },
    {
      "cell_type": "code",
      "source": [
        "fig = px.line(df, x='Date', y='Close', title=f'{ticker} Line Chart')\n",
        "fig.add_hline(y=max_price, annotation_text=f\"Maximum Price: {max_price}\", annotation_font_color=\"blue\")\n",
        "fig.add_hline(y=first_level, annotation_text=f\"23.6% {first_level}\", annotation_font_color=\"green\")\n",
        "fig.add_hline(y=second_level, annotation_text=f\"38.2% {second_level}\", annotation_font_color=\"yellow\")\n",
        "fig.add_hline(y=third_level, annotation_text=f\"50% {third_level}\", annotation_font_color=\"orange\")\n",
        "fig.add_hline(y=fourth_level, annotation_text=f\"61.8%\t{fourth_level}\", annotation_font_color=\"purple\")\n",
        "fig.add_hline(y=min_price, annotation_text=f\"MInimum Price: {min_price}\", annotation_font_color=\"black\")\n",
        "fig.show()"
      ],
      "metadata": {
        "id": "VpW4WPmpE-tA"
      },
      "execution_count": null,
      "outputs": []
    },
    {
      "cell_type": "code",
      "metadata": {
        "id": "Q9q59NnKj_E1"
      },
      "source": [
        "#Time delta for how long to plot line\n",
        "time_delta = datetime.timedelta(days=30)\n",
        "\n",
        "#plot fib level prices with close price. \n",
        "fib_df = df\n",
        "plt.figure(figsize=(12.33, 4.5))\n",
        "plt.title(f'Fibonnaci Retracement & Support/Resistance {ticker}')\n",
        "plt.plot(fib_df.index, fib_df['Close'])\n",
        "plt.axhline(max_price, linestyle='--', alpha = .5, color = 'red')\n",
        "plt.axhline(first_level, linestyle='--', alpha = .5, color = 'orange')\n",
        "plt.axhline(second_level, linestyle='--', alpha = .5, color = 'yellow')\n",
        "plt.axhline(third_level, linestyle='--', alpha = .5, color = 'blue')\n",
        "plt.axhline(fourth_level, linestyle='--', alpha = .5, color = 'purple')\n",
        "plt.axhline(min_price, linestyle='--', alpha = .5, color = 'green')\n",
        "plt.xlabel('Date')\n",
        "plt.ylabel('Price')\n",
        "\n",
        "pivots = [] #store pivot values\n",
        "pivot_date = [] #store date corresponding to pivot value\n",
        "counter = 0 #keeps track of if certain value is a pivot\n",
        "lastpivot = 0 #store last pivot value\n",
        "\n",
        "Range = [0, 0, 0, 0, 0, 0, 0, 0, 0, 0] #array to iterate through stock prices\n",
        "date_range = [0, 0, 0, 0, 0, 0, 0, 0, 0, 0] #array to iterate through corresponding dates\n",
        "for i in df.index: #iterates through price history \n",
        "  currentmax = max(Range, default=0) #Determines max value of 10 item array 'range'\n",
        "  value = round(df['High'][i],2) #receives next high value from df\n",
        "\n",
        "  Range = Range[1:9] #cuts range array to only show most recent 9 values\n",
        "  Range.append(value) #adds newest high value from df \n",
        "  date_range = date_range[1:9] #cuts date array to only most 9 recent values same as above \n",
        "  date_range.append(i) #adds newest date to 'date_range' array\n",
        "\n",
        "  if currentmax == max(Range, default=0): #checks if max stay\n",
        "    counter+=1\n",
        "  else:\n",
        "    counter=0\n",
        "  if counter == 5:\n",
        "    lastpivot = currentmax\n",
        "    dateloc= Range.index(lastpivot)\n",
        "    lastdate = date_range[dateloc]\n",
        "    \n",
        "    pivots.append(lastpivot)\n",
        "    pivot_date.append(lastdate)\n",
        "\n",
        "for index in range(len(pivots)):\n",
        "  #print(str(pivots[index])+': '+str(pivot_date[index]))\n",
        "\n",
        "  plt.plot_date([pivot_date[index],pivot_date[index]+time_delta], [pivots[index],pivots[index]], linestyle='-', linewidth=2, marker=',')\n",
        "\n",
        "\n",
        "#df['High'].plot(label='high', figsize=(20, 12))\n",
        "plt.xticks(rotation=45)\n",
        "plt.grid(True)\n",
        "plt.legend()\n",
        "\n",
        "plt.show()"
      ],
      "execution_count": null,
      "outputs": []
    },
    {
      "cell_type": "code",
      "metadata": {
        "id": "Bb52aji6mzZB"
      },
      "source": [
        "#Create plot now with levels filled.\n",
        "fig = plt.figure(figsize=(12.33, 4.5))\n",
        "ax = fig.add_subplot(1,1,1)\n",
        "\n",
        "plt.title('Fibonnaci Retracement')\n",
        "plt.plot(fib_df.index, fib_df['Close'], color = 'black')\n",
        "\n",
        "plt.axhline(max_price, linestyle='--', alpha = .5, color = 'red')\n",
        "ax.fill_between(fib_df.index, max_price, first_level, color = 'red')\n",
        "\n",
        "plt.axhline(first_level, linestyle='--', alpha = .5, color = 'orange')\n",
        "ax.fill_between(fib_df.index, first_level, second_level, color = 'orange')\n",
        "\n",
        "plt.axhline(second_level, linestyle='--', alpha = .5, color = 'yellow')\n",
        "ax.fill_between(fib_df.index, second_level, third_level, color = 'yellow')\n",
        "\n",
        "plt.axhline(third_level, linestyle='--', alpha = .5, color = 'blue')\n",
        "ax.fill_between(fib_df.index, third_level, fourth_level, color = 'blue')\n",
        "\n",
        "plt.axhline(fourth_level, linestyle='--', alpha = .5, color = 'purple')\n",
        "ax.fill_between(fib_df.index, fourth_level, min_price, color = 'purple')\n",
        "\n",
        "plt.axhline(min_price, linestyle='--', alpha = .5, color = 'green')\n",
        "\n",
        "plt.xlabel('Date')\n",
        "plt.ylabel('Price')\n",
        "plt.show()"
      ],
      "execution_count": null,
      "outputs": []
    },
    {
      "cell_type": "code",
      "source": [
        "trace1 = go.Scatter(\n",
        "            name = 'max_price',\n",
        "            x = [df['Date'].min(), df['Date'].max()], \n",
        "            y=[max_price], \n",
        "            mode='lines',\n",
        "            marker = dict(color = 'red')\n",
        "            ) #,row = 1, col=1)\n",
        "\n",
        "trace2 = go.Candlestick(\n",
        "            name = f'{ticker} Candlestick ',\n",
        "            x = df['Date'], #fib_df.index,\n",
        "            low = df['Low'],\n",
        "            high = df['High'],\n",
        "            close = df['Close'],\n",
        "            open = df['Open'],\n",
        "            increasing_line_color = 'green',\n",
        "            decreasing_line_color = 'red',\n",
        "            )\n",
        "            #,row = 2, col = 1)\n",
        "data = [trace1, trace2]\n",
        "\n",
        "layout = go.Layout(\n",
        "    yaxis=dict(\n",
        "        domain=[0, 0.33]\n",
        "    ),\n",
        "    legend=dict(\n",
        "        traceorder=\"reversed\"\n",
        "    ),\n",
        "    yaxis2=dict(\n",
        "        domain=[0.33, 0.66]\n",
        "    ),\n",
        ")\n",
        "\n",
        "fig = go.Figure(data=data, layout=layout)\n",
        "fig.show()"
      ],
      "metadata": {
        "id": "cI36Fucfa5Ys"
      },
      "execution_count": null,
      "outputs": []
    },
    {
      "cell_type": "code",
      "source": [
        "figure = make_subplots(rows=2, cols=1,\n",
        "                       shared_xaxes=True \n",
        "                       )\n",
        "\n",
        "figure.add_trace(go.Candlestick(\n",
        "                                name = f'{ticker} Candlestick ',\n",
        "                                x = df['Date'], #fib_df.index,\n",
        "                                low = df['Low'],\n",
        "                                high = df['High'],\n",
        "                                close = df['Close'],\n",
        "                                open = df['Open'],\n",
        "                                increasing_line_color = 'green',\n",
        "                                decreasing_line_color = 'red'),\n",
        "                row = 2, col = 1)\n",
        "\n",
        "figure.add_trace(go.Scatter(\n",
        "            name = 'max_price',\n",
        "            x = [df['Date'].min(), df['Date'].max()], \n",
        "            y=[max_price], \n",
        "            mode='lines',\n",
        "            marker = dict(color = 'rgba(80, 26, 80, 0.8)')\n",
        "            ), row = 1, col=1)\n",
        "\n",
        "#figure.update_xaxes(row=1, col=1, rangeslider_thickness=0.05)\n",
        "figure.update_layout(width=900, height=900)\n",
        "figure.show()"
      ],
      "metadata": {
        "id": "ElO1M-bIQgi2"
      },
      "execution_count": null,
      "outputs": []
    },
    {
      "cell_type": "code",
      "metadata": {
        "id": "hj5apPQRm0LR"
      },
      "source": [
        "#Create interactive Candle stick chart\n",
        "figure = go.Figure(\n",
        "    data = [\n",
        "            go.Candlestick(\n",
        "                x = df['Date'], #fib_df.index,\n",
        "                low = df['Low'],\n",
        "                high = df['High'],\n",
        "                close = df['Close'],\n",
        "                open = df['Open'],\n",
        "                increasing_line_color = 'green',\n",
        "                decreasing_line_color = 'red',\n",
        "                yaxis=\"y2\"\n",
        "            )\n",
        "    ]\n",
        ")\n",
        "fig.add_trace(go.Scatter(x=max_price, mode=\"lines\", name=\"SIGNAL\"))\n",
        "#fig.add_vline(x=max_price)\n",
        "\n",
        "figure.show()"
      ],
      "execution_count": null,
      "outputs": []
    },
    {
      "cell_type": "code",
      "metadata": {
        "id": "78d64QOSWBgl"
      },
      "source": [
        "trace1 = go.Figure(\n",
        "    data = [\n",
        "            go.Candlestick(\n",
        "                x = fib_df.index,\n",
        "                low = df['Low'],\n",
        "                high = df['High'],\n",
        "                close = df['Close'],\n",
        "                open = df['Open'],\n",
        "                increasing_line_color = 'green',\n",
        "                decreasing_line_color = 'red',\n",
        "            )\n",
        "    ]\n",
        ")\n",
        "\n",
        "trace2 = go.Scatter(x = [max_price])\n",
        "\n",
        "\n",
        "\n",
        "fig1 = make_subplots(rows=1, cols=2)\n",
        "data1 = [trace1, trace1]\n",
        "#data2 = [trace21, trace22]\n",
        "fig1.add_traces(data1, rows=1, cols=1)\n",
        "#fig.add_traces(data2, rows=1, cols=2)\n",
        "fig1.show()"
      ],
      "execution_count": null,
      "outputs": []
    }
  ]
}